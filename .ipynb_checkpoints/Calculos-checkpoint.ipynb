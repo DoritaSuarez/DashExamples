{
 "cells": [
  {
   "cell_type": "markdown",
   "metadata": {},
   "source": [
    "# Oculusal Analysis\n",
    "\n",
    "This Jupyter notebook contents the algorithm to analice an a image with bite register, wedge and measure reference."
   ]
  },
  {
   "cell_type": "markdown",
   "metadata": {},
   "source": [
    "### Import packages"
   ]
  },
  {
   "cell_type": "code",
   "execution_count": null,
   "metadata": {},
   "outputs": [],
   "source": [
    "from PIL import Image, ImageOps, ImageChops, ImageFilter\n",
    "from numpy import asarray\n",
    "import os\n",
    "from matplotlib import pyplot\n",
    "from mpl_toolkits.mplot3d import axes3d\n",
    "import matplotlib.pyplot as plt\n",
    "from matplotlib import cm\n",
    "import numpy as np\n",
    "import pandas as pd\n",
    "import plotly.graph_objects as go\n",
    "import cv2\n",
    "import functools \n",
    "from numba import vectorize, float64, int64\n",
    "# import mascara as mask"
   ]
  },
  {
   "cell_type": "markdown",
   "metadata": {},
   "source": [
    "### Loading images"
   ]
  },
  {
   "cell_type": "code",
   "execution_count": null,
   "metadata": {},
   "outputs": [],
   "source": [
    "image = Image.open('Samsung.jpg')\n",
    "image_bw = image.convert(mode = \"L\") # Transform to black and white\n",
    "print(image_bw.size) # [0]: width in pixels [1]: height in pixels"
   ]
  },
  {
   "cell_type": "markdown",
   "metadata": {},
   "source": [
    "### Step 1: cut images\n",
    "(1) widge: It is used for convert the units in terms of deep pixel to distans in millimeters of the center.\n",
    "(2) bite: Image to analyze\n",
    "(3) measure guide: It is used for convert pixel to millimeters.\n"
   ]
  },
  {
   "cell_type": "code",
   "execution_count": null,
   "metadata": {},
   "outputs": [],
   "source": [
    "bite_params = (500, 600, 2300, 2200)\n",
    "guide_params = (30, 2400, 200, 2650)\n",
    "wedge_params = (1050, 2650, 1400, 2950)"
   ]
  },
  {
   "cell_type": "code",
   "execution_count": null,
   "metadata": {},
   "outputs": [],
   "source": [
    "bite = np.array(image_bw.crop(bite_params))\n",
    "guide = np.array(image_bw.crop(guide_params))\n",
    "wedge = np.array(image_bw.crop(wedge_params))"
   ]
  },
  {
   "cell_type": "code",
   "execution_count": null,
   "metadata": {},
   "outputs": [],
   "source": [
    "print(bite.shape)\n",
    "print(guide.shape)\n",
    "print(wedge.shape)"
   ]
  },
  {
   "cell_type": "markdown",
   "metadata": {},
   "source": [
    "### Step 2: convert millimeters to pixels\n",
    "Calculate the equivalence between pixels and millimeters\n"
   ]
  },
  {
   "cell_type": "code",
   "execution_count": null,
   "metadata": {},
   "outputs": [],
   "source": [
    "def change_contrast(img, level):\n",
    "    factor = (259 * (level + 255)) / (255 * (259 - level))\n",
    "    def contrast(c):\n",
    "        return 128 + factor * (c - 128)\n",
    "    return img.point(contrast)\n",
    "\n",
    "guide_cont = change_contrast(image, 100)\n",
    "guide_cont = np.array(guide_cont.crop(guide_params))\n",
    "\n",
    "plt.imshow(guide_cont)\n",
    "guide_cont = cv2.cvtColor(guide_cont,cv2.COLOR_BGR2GRAY)\n",
    "guide_cont.shape"
   ]
  },
  {
   "cell_type": "code",
   "execution_count": null,
   "metadata": {},
   "outputs": [],
   "source": [
    "x = \"10\"\n",
    "float(x)"
   ]
  },
  {
   "cell_type": "code",
   "execution_count": null,
   "metadata": {},
   "outputs": [],
   "source": [
    "mid = round(guide_cont.shape[0]/2)\n",
    "zeros = [i for i, e in enumerate(guide_cont[mid]) if e == 0]"
   ]
  },
  {
   "cell_type": "code",
   "execution_count": null,
   "metadata": {},
   "outputs": [],
   "source": [
    "sum_t = 0\n",
    "count = 0\n",
    "pix = []\n",
    "for i in range(len(zeros)-1):\n",
    "    if((zeros[i+1]-zeros[i]) == 1):\n",
    "        sum_t = sum_t + zeros[i]\n",
    "        count = count + 1\n",
    "    else:\n",
    "        pix.append(round(sum_t/count))\n",
    "        sum_t = 0\n",
    "        count = 0"
   ]
  },
  {
   "cell_type": "code",
   "execution_count": null,
   "metadata": {},
   "outputs": [],
   "source": [
    "mm = round(np.mean(np.diff(pix)))\n",
    "mm"
   ]
  },
  {
   "cell_type": "markdown",
   "metadata": {},
   "source": [
    "### Step 3: Convert depth pixel to millimeters\n",
    "Using the wedge to convert each pixel depth to equivalent millimeters from the center of the wedge"
   ]
  },
  {
   "cell_type": "code",
   "execution_count": null,
   "metadata": {},
   "outputs": [],
   "source": [
    "wedge_w = []\n",
    "\n",
    "for i in range(wedge.shape[0]):\n",
    "    x = list(wedge[i])\n",
    "    wedge_w.append(max(x))\n",
    "pix_med_y = wedge_w.index(max(wedge_w))\n",
    "plt.imshow(wedge)"
   ]
  },
  {
   "cell_type": "code",
   "execution_count": null,
   "metadata": {},
   "outputs": [],
   "source": [
    "pix_med_x = np.argmax(wedge[pix_med_y])"
   ]
  },
  {
   "cell_type": "code",
   "execution_count": null,
   "metadata": {},
   "outputs": [],
   "source": [
    "print(pix_med_x)\n",
    "print(pix_med_y)"
   ]
  },
  {
   "cell_type": "markdown",
   "metadata": {},
   "source": [
    "After calibrate the center of widge, calculate the value of each depth in terms of millimeters"
   ]
  },
  {
   "cell_type": "code",
   "execution_count": null,
   "metadata": {},
   "outputs": [],
   "source": [
    "dist = []\n",
    "prof = []\n",
    "dist_p = []\n",
    "for i in range(wedge.shape[1]):\n",
    "        dist.append((i - pix_med_x)/mm)\n",
    "        dist_p.append((i - pix_med_x))\n",
    "        prof.append(wedge[pix_med_x][i])\n",
    "\n",
    "plt.plot(dist_p, prof)\n",
    "data_wedge_dist = pd.DataFrame({\"d_pix\":prof, \"x_pix\":dist_p, \"x_mm\":dist})"
   ]
  },
  {
   "cell_type": "code",
   "execution_count": null,
   "metadata": {
    "scrolled": true
   },
   "outputs": [],
   "source": [
    "dist = []\n",
    "prof = []\n",
    "dist_p = []\n",
    "for i in range(wedge.shape[1]):\n",
    "        dist.append(np.abs(i - pix_med_x)/mm)\n",
    "        dist_p.append(np.abs(i - pix_med_x))\n",
    "        prof.append(wedge[pix_med_x][i])\n",
    "\n",
    "plt.plot(dist_p, prof)\n",
    "data_wedge_dist = pd.DataFrame({\"d_pix\":prof, \"x_pix\":dist_p, \"x_mm\":dist})\n",
    "data_wedge_dist[240:280]"
   ]
  },
  {
   "cell_type": "code",
   "execution_count": null,
   "metadata": {},
   "outputs": [],
   "source": [
    "import pandas as pd\n",
    "x = np.arange(-19, 19, 0.01)\n",
    "\n",
    "def tomm(w):\n",
    "    return -np.sqrt(361-w*w) + 19\n",
    "#     return -1/2*np.sqrt(22201-4*w*w)\n",
    "\n",
    "y = list(map(tomm, x))\n",
    "y_pix = list(map(lambda w: round(w*mm), y))\n",
    "x_pix = list(map(lambda w: round(w*mm), x))\n",
    "\n",
    "data_wedge_depth = pd.DataFrame({\"x_mill\":x, \"y_mill\":y, \"y_pix\":y_pix, \"x_pix\":x_pix})\n",
    "plt.plot(data_wedge_depth[\"x_mill\"], data_wedge_depth[\"y_mill\"])\n",
    "# data_wedge_depth"
   ]
  },
  {
   "cell_type": "code",
   "execution_count": null,
   "metadata": {
    "scrolled": false
   },
   "outputs": [],
   "source": [
    "wedge_dd = data_wedge_depth.merge(data_wedge_dist)\n",
    "wedge_xd = wedge_dd.groupby(\"x_pix\").median().reset_index()\n",
    "wedge_dd = wedge_dd.groupby(\"d_pix\").median().reset_index()"
   ]
  },
  {
   "cell_type": "code",
   "execution_count": null,
   "metadata": {
    "scrolled": true
   },
   "outputs": [],
   "source": [
    "k_pix = min(np.array(wedge_dd[wedge_dd.y_mill <= 0.05][\"d_pix\"]))\n",
    "w_pix = min(np.array(wedge_dd[wedge_dd.y_mill <= 0.35][\"d_pix\"]))\n",
    "print(k_pix)\n",
    "print(w_pix)"
   ]
  },
  {
   "cell_type": "code",
   "execution_count": null,
   "metadata": {},
   "outputs": [],
   "source": [
    "def depth_found(dist, a):\n",
    "    y =  [i for i, e in enumerate(prof) if e == a]\n",
    "    if(len(y)== 0):\n",
    "        return \"not found\"\n",
    "    else:\n",
    "        return np.median([dist[i] for i in y])\n",
    "\n",
    "distances = []\n",
    "depths = []\n",
    "\n",
    "for i in range(255):\n",
    "    distances.append(depth_found(dist, i))\n",
    "    depths.append(i)\n",
    "    \n",
    "for i in range(len(distances)):\n",
    "    if(i == 0 and distances[i]==\"not found\"):\n",
    "        aux = [x for x in distances if x!= \"not found\"]\n",
    "        distances[i] = max(aux)\n",
    "    if(distances[i] == \"not found\"):\n",
    "        distances[i] = distances[i - 1]\n",
    "\n",
    "# To get every depths, put it in the index of \"distances\"\n",
    "plt.plot(distances,depths)"
   ]
  },
  {
   "cell_type": "markdown",
   "metadata": {},
   "source": [
    "### Step 5: calculate the maximun depth\n",
    "In this step, the maximun depth for the contacts is calculated"
   ]
  },
  {
   "cell_type": "code",
   "execution_count": null,
   "metadata": {},
   "outputs": [],
   "source": [
    "# print(max([x for x in distances if x <= 0.05]))\n",
    "# k = min([i for i, e in enumerate(distances) if e <= 0.05])\n",
    "# w = min([i for i, e in enumerate(distances) if e <= 0.35])\n",
    "# k"
   ]
  },
  {
   "cell_type": "markdown",
   "metadata": {},
   "source": [
    "### Step 4: Transform each pixel distance\n",
    "Here, each depth pixel on the bite is transform to its equivalent millimeters distance to the center of the wedge."
   ]
  },
  {
   "cell_type": "code",
   "execution_count": null,
   "metadata": {},
   "outputs": [],
   "source": [
    "@vectorize([int64(float64)])\n",
    "def redondear(x):\n",
    "    return x"
   ]
  },
  {
   "cell_type": "code",
   "execution_count": null,
   "metadata": {},
   "outputs": [],
   "source": [
    "# bite = np.array(image.crop(bite_params))\n",
    "cut_params = [(150,1100),(220,820),(450.40,800),(400,1200.18)]\n",
    "cut_params = redondear(cut_params)\n",
    "pts = np.array(cut_params)\n",
    "## (1) Crop the bounding rect\n",
    "rect = cv2.boundingRect(pts)\n",
    "x,y,w,h = rect\n",
    "croped = bite[y:y+h, x:x+w].copy()\n",
    "\n",
    "## (2) make mask\n",
    "pts = pts - pts.min(axis=0)\n",
    "\n",
    "mask = np.zeros(croped.shape[:2], np.uint8)\n",
    "cv2.drawContours(mask, [pts], -1, (255, 255, 255), -1, cv2.LINE_AA)\n",
    "\n",
    "## (3) do bit-op\n",
    "dst = cv2.bitwise_and(croped, croped, mask=mask)\n",
    "\n",
    "## (4) add the white background\n",
    "bg = np.ones_like(croped, np.uint8)*255\n",
    "# cv2.bitwise_not(bg,bg, mask=mask)\n",
    "plt.imshow(dst)\n",
    "# max(dst[250])\n",
    "# plt.imshow(255-dst)"
   ]
  },
  {
   "cell_type": "code",
   "execution_count": null,
   "metadata": {},
   "outputs": [],
   "source": [
    "croped"
   ]
  },
  {
   "cell_type": "code",
   "execution_count": null,
   "metadata": {
    "scrolled": true
   },
   "outputs": [],
   "source": [
    "dst"
   ]
  },
  {
   "cell_type": "code",
   "execution_count": null,
   "metadata": {},
   "outputs": [],
   "source": [
    "class Switch(dict):\n",
    "    def __getitem__(self, item):\n",
    "        for key in self.keys():                   # iterate over the intervals\n",
    "            if item in key:                       # if the argument is part of that interval\n",
    "                return super().__getitem__(key)   # return its associated value\n",
    "        raise KeyError(item)                      # if not in any interval, raise KeyError\n",
    "\n",
    "switch = Switch({\n",
    "    range(k_pix, 255): 2,\n",
    "    range(w_pix, k_pix): 1,\n",
    "    range(0, w_pix): 0\n",
    "})\n",
    "print(k_pix)\n",
    "print(w_pix)"
   ]
  },
  {
   "cell_type": "code",
   "execution_count": null,
   "metadata": {},
   "outputs": [],
   "source": [
    "# classification = dst.copy()\n",
    "# for i in range(dst.shape[0]):\n",
    "#     classification[i] = [switch[x] for x in dst[i]]"
   ]
  },
  {
   "cell_type": "code",
   "execution_count": null,
   "metadata": {},
   "outputs": [],
   "source": [
    "@vectorize([float64(float64)])\n",
    "def f(x):\n",
    "    return switch[x]"
   ]
  },
  {
   "cell_type": "code",
   "execution_count": null,
   "metadata": {},
   "outputs": [],
   "source": [
    "classification = f(dst)"
   ]
  },
  {
   "cell_type": "code",
   "execution_count": null,
   "metadata": {},
   "outputs": [],
   "source": [
    "# (clasification1 == clasification).all()"
   ]
  },
  {
   "cell_type": "code",
   "execution_count": null,
   "metadata": {},
   "outputs": [],
   "source": [
    "plt.imshow(classification)"
   ]
  },
  {
   "cell_type": "code",
   "execution_count": null,
   "metadata": {},
   "outputs": [],
   "source": [
    "low = 0\n",
    "contact = 0\n",
    "close = 0\n",
    "for i in range(classification.shape[0]):\n",
    "    for j in range(classification.shape[1]):\n",
    "            if(classification[i][j] == 0):\n",
    "                low = low + 1\n",
    "            if(classification[i][j] == 1):\n",
    "                close = close +1\n",
    "            if(classification[i][j] == 2):\n",
    "                contact = contact +1"
   ]
  },
  {
   "cell_type": "markdown",
   "metadata": {},
   "source": [
    "### Calculate the area and number of contacts and close areas"
   ]
  },
  {
   "cell_type": "code",
   "execution_count": null,
   "metadata": {},
   "outputs": [],
   "source": [
    "area_contact = (1/mm**2)*contact\n",
    "area_close = (1/mm**2)*close\n",
    "print(area_contact)\n",
    "print(area_close)"
   ]
  },
  {
   "cell_type": "code",
   "execution_count": null,
   "metadata": {},
   "outputs": [],
   "source": [
    "classification.shape[0]"
   ]
  },
  {
   "cell_type": "code",
   "execution_count": null,
   "metadata": {},
   "outputs": [],
   "source": [
    "contactos = []\n",
    "for k in range(classification.shape[0]-1):\n",
    "    zeros = [i for i, e in enumerate(classification[k]) if e == 2]\n",
    "    if len(zeros) == 0:\n",
    "        \"Sin contactos\"\n",
    "    else:\n",
    "        contactos.append(k)"
   ]
  },
  {
   "cell_type": "code",
   "execution_count": null,
   "metadata": {
    "scrolled": false
   },
   "outputs": [],
   "source": [
    "if len([i for i, e in enumerate(np.diff(contactos)) if e != 1]) == 0:\n",
    "    count_contact = 1\n",
    "else:\n",
    "    count_contact = len([i for i, e in enumerate(np.diff(contactos)) if e != 1])\n",
    "count_contact"
   ]
  },
  {
   "cell_type": "code",
   "execution_count": null,
   "metadata": {},
   "outputs": [],
   "source": [
    "contactos = []\n",
    "for k in range(classification.shape[0]-1):\n",
    "    zeros = [i for i, e in enumerate(classification[k]) if e == 1]\n",
    "    if len(zeros) == 0:\n",
    "        \"Sin contactos\"\n",
    "    else:\n",
    "        contactos.append(k)"
   ]
  },
  {
   "cell_type": "code",
   "execution_count": null,
   "metadata": {},
   "outputs": [],
   "source": [
    "import numpy as np\n",
    "import plotly.graph_objs as go\n",
    "import ipywidgets as widgets\n",
    "from plotly.colors import DEFAULT_PLOTLY_COLORS\n",
    "\n",
    "x = np.linspace(0,6,100)\n",
    "y = np.sin(x)\n",
    "\n",
    "data = [go.Scattergl(x=x, y=y, mode='markers', name = 'All nodes',\n",
    "                     selected=dict(marker=dict(color=DEFAULT_PLOTLY_COLORS[1])))]\n",
    "\n",
    "layout = dict(title=dict(text = 'asagsggsa'), dragmode='lasso')\n",
    "fig = go.FigureWidget(data=data, layout= layout)\n",
    "\n",
    "seleccion = []\n",
    "\n",
    "def otra(trace, points, selector):\n",
    "    seleccion=selector\n",
    "    print(selector)\n",
    "\n",
    "fig.data[0].on_selection(otra)\n",
    "print(salida)\n",
    "# fig2.data[0].on_selection(selection_fn2)\n",
    "display(widgets.HBox([fig,fig]))"
   ]
  },
  {
   "cell_type": "code",
   "execution_count": null,
   "metadata": {},
   "outputs": [],
   "source": [
    "print(seleccion)"
   ]
  },
  {
   "cell_type": "code",
   "execution_count": 15,
   "metadata": {},
   "outputs": [
    {
     "ename": "AttributeError",
     "evalue": "'Figure' object has no attribute 'add_layout_image'",
     "output_type": "error",
     "traceback": [
      "\u001b[1;31m---------------------------------------------------------------------------\u001b[0m",
      "\u001b[1;31mAttributeError\u001b[0m                            Traceback (most recent call last)",
      "\u001b[1;32m<ipython-input-15-12f5c3779355>\u001b[0m in \u001b[0;36m<module>\u001b[1;34m\u001b[0m\n\u001b[0;32m     33\u001b[0m \u001b[1;33m\u001b[0m\u001b[0m\n\u001b[0;32m     34\u001b[0m \u001b[1;31m# Add image\u001b[0m\u001b[1;33m\u001b[0m\u001b[1;33m\u001b[0m\u001b[1;33m\u001b[0m\u001b[0m\n\u001b[1;32m---> 35\u001b[1;33m fig.add_layout_image(\n\u001b[0m\u001b[0;32m     36\u001b[0m     go.layout.Image(\n\u001b[0;32m     37\u001b[0m         \u001b[0mx\u001b[0m\u001b[1;33m=\u001b[0m\u001b[1;36m0\u001b[0m\u001b[1;33m,\u001b[0m\u001b[1;33m\u001b[0m\u001b[1;33m\u001b[0m\u001b[0m\n",
      "\u001b[1;31mAttributeError\u001b[0m: 'Figure' object has no attribute 'add_layout_image'"
     ]
    }
   ],
   "source": [
    "import plotly.graph_objs as go\n",
    "# Create figure\n",
    "fig = go.Figure()\n",
    "\n",
    "# Constants\n",
    "img_width = 1600\n",
    "img_height = 900\n",
    "scale_factor = 0.5\n",
    "\n",
    "# Add invisible scatter trace.\n",
    "# This trace is added to help the autoresize logic work.\n",
    "fig.add_trace(\n",
    "    go.Scatter(\n",
    "        x=[0, img_width * scale_factor],\n",
    "        y=[0, img_height * scale_factor],\n",
    "        mode=\"markers\",\n",
    "        marker_opacity=0\n",
    "    )\n",
    ")\n",
    "\n",
    "# Configure axes\n",
    "fig.update_xaxes(\n",
    "    visible=False,\n",
    "    range=[0, img_width * scale_factor]\n",
    ")\n",
    "\n",
    "fig.update_yaxes(\n",
    "    visible=False,\n",
    "    range=[0, img_height * scale_factor],\n",
    "    # the scaleanchor attribute ensures that the aspect ratio stays constant\n",
    "    scaleanchor=\"x\"\n",
    ")\n",
    "\n",
    "# Add image\n",
    "fig.add_layout_image(\n",
    "    go.layout.Image(\n",
    "        x=0,\n",
    "        sizex=img_width * scale_factor,\n",
    "        y=img_height * scale_factor,\n",
    "        sizey=img_height * scale_factor,\n",
    "        xref=\"x\",\n",
    "        yref=\"y\",\n",
    "        opacity=1.0,\n",
    "        layer=\"below\",\n",
    "        sizing=\"stretch\",\n",
    "        source=\"https://raw.githubusercontent.com/michaelbabyn/plot_data/master/bridge.jpg\")\n",
    ")\n",
    "\n",
    "# Configure other layout\n",
    "fig.update_layout(\n",
    "    width=img_width * scale_factor,\n",
    "    height=img_height * scale_factor,\n",
    "    margin={\"l\": 0, \"r\": 0, \"t\": 0, \"b\": 0},\n",
    ")\n",
    "\n",
    "# Disable the autosize on double click because it adds unwanted margins around the image\n",
    "# More detail: https://plot.ly/python/configuration-options/\n",
    "fig.show(config={'doubleClick': 'reset'})"
   ]
  },
  {
   "cell_type": "code",
   "execution_count": 14,
   "metadata": {},
   "outputs": [
    {
     "data": {
      "text/plain": [
       "'4.1.1'"
      ]
     },
     "execution_count": 14,
     "metadata": {},
     "output_type": "execute_result"
    }
   ],
   "source": [
    "import plotly as pt\n",
    "pt.__version__"
   ]
  },
  {
   "cell_type": "code",
   "execution_count": 11,
   "metadata": {},
   "outputs": [
    {
     "ename": "AttributeError",
     "evalue": "module 'plotly.express' has no attribute 'imshow'",
     "output_type": "error",
     "traceback": [
      "\u001b[1;31m---------------------------------------------------------------------------\u001b[0m",
      "\u001b[1;31mAttributeError\u001b[0m                            Traceback (most recent call last)",
      "\u001b[1;32m<ipython-input-11-cd370f7bee38>\u001b[0m in \u001b[0;36m<module>\u001b[1;34m\u001b[0m\n\u001b[0;32m      2\u001b[0m \u001b[1;32mfrom\u001b[0m \u001b[0mskimage\u001b[0m \u001b[1;32mimport\u001b[0m \u001b[0mio\u001b[0m\u001b[1;33m\u001b[0m\u001b[1;33m\u001b[0m\u001b[0m\n\u001b[0;32m      3\u001b[0m \u001b[0mimg\u001b[0m \u001b[1;33m=\u001b[0m \u001b[0mio\u001b[0m\u001b[1;33m.\u001b[0m\u001b[0mimread\u001b[0m\u001b[1;33m(\u001b[0m\u001b[1;34m'https://upload.wikimedia.org/wikipedia/commons/thumb/0/00/Crab_Nebula.jpg/240px-Crab_Nebula.jpg'\u001b[0m\u001b[1;33m)\u001b[0m\u001b[1;33m\u001b[0m\u001b[1;33m\u001b[0m\u001b[0m\n\u001b[1;32m----> 4\u001b[1;33m \u001b[0mfig\u001b[0m \u001b[1;33m=\u001b[0m \u001b[0mpx\u001b[0m\u001b[1;33m.\u001b[0m\u001b[0mimshow\u001b[0m\u001b[1;33m(\u001b[0m\u001b[0mimg\u001b[0m\u001b[1;33m)\u001b[0m\u001b[1;33m\u001b[0m\u001b[1;33m\u001b[0m\u001b[0m\n\u001b[0m\u001b[0;32m      5\u001b[0m \u001b[0mfig\u001b[0m\u001b[1;33m.\u001b[0m\u001b[0mshow\u001b[0m\u001b[1;33m(\u001b[0m\u001b[1;33m)\u001b[0m\u001b[1;33m\u001b[0m\u001b[1;33m\u001b[0m\u001b[0m\n",
      "\u001b[1;31mAttributeError\u001b[0m: module 'plotly.express' has no attribute 'imshow'"
     ]
    }
   ],
   "source": [
    "import plotly.express as px\n",
    "from skimage import io\n",
    "img = io.imread('https://upload.wikimedia.org/wikipedia/commons/thumb/0/00/Crab_Nebula.jpg/240px-Crab_Nebula.jpg')\n",
    "fig = px.imshow(img)\n",
    "fig.show()"
   ]
  }
 ],
 "metadata": {
  "kernelspec": {
   "display_name": "Python 3",
   "language": "python",
   "name": "python3"
  },
  "language_info": {
   "codemirror_mode": {
    "name": "ipython",
    "version": 3
   },
   "file_extension": ".py",
   "mimetype": "text/x-python",
   "name": "python",
   "nbconvert_exporter": "python",
   "pygments_lexer": "ipython3",
   "version": "3.7.3"
  }
 },
 "nbformat": 4,
 "nbformat_minor": 2
}
