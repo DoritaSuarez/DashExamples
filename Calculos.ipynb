{
 "cells": [
  {
   "cell_type": "markdown",
   "metadata": {},
   "source": [
    "# Oculusal Analysis\n",
    "\n",
    "This Jupyter notebook contents the algorithm to analice an a image with bite register, wedge and measure reference."
   ]
  },
  {
   "cell_type": "markdown",
   "metadata": {},
   "source": [
    "### Import packages"
   ]
  },
  {
   "cell_type": "code",
   "execution_count": 1,
   "metadata": {},
   "outputs": [],
   "source": [
    "from PIL import Image, ImageOps, ImageChops, ImageFilter\n",
    "from numpy import asarray\n",
    "import os\n",
    "from matplotlib import pyplot\n",
    "from mpl_toolkits.mplot3d import axes3d\n",
    "import matplotlib.pyplot as plt\n",
    "from matplotlib import cm\n",
    "import numpy as np\n",
    "import pandas as pd\n",
    "import plotly.graph_objects as go\n",
    "import cv2\n",
    "import functools \n",
    "from numba import vectorize, float64, int64\n",
    "# import mascara as mask"
   ]
  },
  {
   "cell_type": "markdown",
   "metadata": {},
   "source": [
    "### Loading images"
   ]
  },
  {
   "cell_type": "code",
   "execution_count": 2,
   "metadata": {},
   "outputs": [
    {
     "name": "stdout",
     "output_type": "stream",
     "text": [
      "(2448, 3264)\n"
     ]
    }
   ],
   "source": [
    "image = Image.open('Samsung.jpg')\n",
    "image_bw = image.convert(mode = \"L\") # Transform to black and white\n",
    "print(image_bw.size) # [0]: width in pixels [1]: height in pixels"
   ]
  },
  {
   "cell_type": "markdown",
   "metadata": {},
   "source": [
    "### Step 1: cut images\n",
    "(1) widge: It is used for convert the units in terms of deep pixel to distans in millimeters of the center.\n",
    "(2) bite: Image to analyze\n",
    "(3) measure guide: It is used for convert pixel to millimeters.\n"
   ]
  },
  {
   "cell_type": "code",
   "execution_count": 3,
   "metadata": {},
   "outputs": [],
   "source": [
    "bite_params = (500, 600, 2300, 2200)\n",
    "guide_params = (30, 2400, 200, 2650)\n",
    "wedge_params = (1050, 2650, 1400, 2950)"
   ]
  },
  {
   "cell_type": "code",
   "execution_count": 53,
   "metadata": {},
   "outputs": [
    {
     "name": "stdout",
     "output_type": "stream",
     "text": [
      "<class 'PIL.Image.Image'>\n",
      "<class 'PIL.JpegImagePlugin.JpegImageFile'>\n",
      "<class 'PIL.Image.Image'>\n"
     ]
    }
   ],
   "source": [
    "bite = np.array(image.crop(bite_params))\n",
    "new = Image.fromarray( bite, mode='RGB' )\n",
    "print(type(image.crop(bite_params)))\n",
    "print(type(image))\n",
    "# imagen2 = bite.tobitmap()\n",
    "print(type(new))\n",
    "guide = np.array(image_bw.crop(guide_params))\n",
    "wedge = np.array(image_bw.crop(wedge_params))"
   ]
  },
  {
   "cell_type": "code",
   "execution_count": 5,
   "metadata": {},
   "outputs": [],
   "source": [
    "# photo.paste(\"black\",(100,100,200,200))\n",
    "bite2 = image_bw.crop(bite_params)\n",
    "bite2.save('bite.jpg')\n",
    "bite2.close()"
   ]
  },
  {
   "cell_type": "code",
   "execution_count": 46,
   "metadata": {},
   "outputs": [
    {
     "name": "stdout",
     "output_type": "stream",
     "text": [
      "(1600, 1800, 3)\n",
      "(250, 170)\n",
      "(300, 350)\n"
     ]
    }
   ],
   "source": [
    "print(bite.shape)\n",
    "print(guide.shape)\n",
    "print(wedge.shape)"
   ]
  },
  {
   "cell_type": "markdown",
   "metadata": {},
   "source": [
    "### Step 2: convert millimeters to pixels\n",
    "Calculate the equivalence between pixels and millimeters\n"
   ]
  },
  {
   "cell_type": "code",
   "execution_count": 7,
   "metadata": {},
   "outputs": [
    {
     "data": {
      "text/plain": [
       "(250, 170)"
      ]
     },
     "execution_count": 7,
     "metadata": {},
     "output_type": "execute_result"
    },
    {
     "data": {
      "image/png": "[encoded data removed]",
      "text/plain": [
       "<Figure size 432x288 with 1 Axes>"
      ]
     },
     "metadata": {
      "needs_background": "light"
     },
     "output_type": "display_data"
    }
   ],
   "source": [
    "def change_contrast(img, level):\n",
    "    factor = (259 * (level + 255)) / (255 * (259 - level))\n",
    "    def contrast(c):\n",
    "        return 128 + factor * (c - 128)\n",
    "    return img.point(contrast)\n",
    "\n",
    "guide_cont = change_contrast(image, 100)\n",
    "guide_cont = np.array(guide_cont.crop(guide_params))\n",
    "\n",
    "plt.imshow(guide_cont)\n",
    "guide_cont = cv2.cvtColor(guide_cont,cv2.COLOR_BGR2GRAY)\n",
    "guide_cont.shape"
   ]
  },
  {
   "cell_type": "code",
   "execution_count": 8,
   "metadata": {},
   "outputs": [
    {
     "data": {
      "text/plain": [
       "10.0"
      ]
     },
     "execution_count": 8,
     "metadata": {},
     "output_type": "execute_result"
    }
   ],
   "source": [
    "x = \"10\"\n",
    "float(x)"
   ]
  },
  {
   "cell_type": "code",
   "execution_count": 9,
   "metadata": {},
   "outputs": [],
   "source": [
    "mid = round(guide_cont.shape[0]/2)\n",
    "zeros = [i for i, e in enumerate(guide_cont[mid]) if e == 0]"
   ]
  },
  {
   "cell_type": "code",
   "execution_count": 10,
   "metadata": {},
   "outputs": [],
   "source": [
    "sum_t = 0\n",
    "count = 0\n",
    "pix = []\n",
    "for i in range(len(zeros)-1):\n",
    "    if((zeros[i+1]-zeros[i]) == 1):\n",
    "        sum_t = sum_t + zeros[i]\n",
    "        count = count + 1\n",
    "    else:\n",
    "        pix.append(round(sum_t/count))\n",
    "        sum_t = 0\n",
    "        count = 0"
   ]
  },
  {
   "cell_type": "code",
   "execution_count": 11,
   "metadata": {},
   "outputs": [
    {
     "data": {
      "text/plain": [
       "26.0"
      ]
     },
     "execution_count": 11,
     "metadata": {},
     "output_type": "execute_result"
    }
   ],
   "source": [
    "mm = round(np.mean(np.diff(pix)))\n",
    "mm"
   ]
  },
  {
   "cell_type": "markdown",
   "metadata": {},
   "source": [
    "### Step 3: Convert depth pixel to millimeters\n",
    "Using the wedge to convert each pixel depth to equivalent millimeters from the center of the wedge"
   ]
  },
  {
   "cell_type": "code",
   "execution_count": 12,
   "metadata": {},
   "outputs": [
    {
     "data": {
      "text/plain": [
       "<matplotlib.image.AxesImage at 0x2892c104e48>"
      ]
     },
     "execution_count": 12,
     "metadata": {},
     "output_type": "execute_result"
    },
    {
     "data": {
      "image/png": "[encoded data removed]",
      "text/plain": [
       "<Figure size 432x288 with 1 Axes>"
      ]
     },
     "metadata": {
      "needs_background": "light"
     },
     "output_type": "display_data"
    }
   ],
   "source": [
    "wedge_w = []\n",
    "\n",
    "for i in range(wedge.shape[0]):\n",
    "    x = list(wedge[i])\n",
    "    wedge_w.append(max(x))\n",
    "pix_med_y = wedge_w.index(max(wedge_w))\n",
    "plt.imshow(wedge)"
   ]
  },
  {
   "cell_type": "code",
   "execution_count": 13,
   "metadata": {},
   "outputs": [],
   "source": [
    "pix_med_x = np.argmax(wedge[pix_med_y])"
   ]
  },
  {
   "cell_type": "code",
   "execution_count": 14,
   "metadata": {},
   "outputs": [
    {
     "name": "stdout",
     "output_type": "stream",
     "text": [
      "170\n",
      "145\n"
     ]
    }
   ],
   "source": [
    "print(pix_med_x)\n",
    "print(pix_med_y)"
   ]
  },
  {
   "cell_type": "markdown",
   "metadata": {},
   "source": [
    "After calibrate the center of widge, calculate the value of each depth in terms of millimeters"
   ]
  },
  {
   "cell_type": "code",
   "execution_count": 15,
   "metadata": {},
   "outputs": [
    {
     "data": {
      "image/png": "[encoded data removed]",
      "text/plain": [
       "<Figure size 432x288 with 1 Axes>"
      ]
     },
     "metadata": {
      "needs_background": "light"
     },
     "output_type": "display_data"
    }
   ],
   "source": [
    "dist = []\n",
    "prof = []\n",
    "dist_p = []\n",
    "for i in range(wedge.shape[1]):\n",
    "        dist.append((i - pix_med_x)/mm)\n",
    "        dist_p.append((i - pix_med_x))\n",
    "        prof.append(wedge[pix_med_x][i])\n",
    "\n",
    "plt.plot(dist_p, prof)\n",
    "data_wedge_dist = pd.DataFrame({\"d_pix\":prof, \"x_pix\":dist_p, \"x_mm\":dist})"
   ]
  },
  {
   "cell_type": "code",
   "execution_count": 16,
   "metadata": {
    "scrolled": true
   },
   "outputs": [
    {
     "data": {
      "text/html": [
       "<div>\n",
       "<style scoped>\n",
       "    .dataframe tbody tr th:only-of-type {\n",
       "        vertical-align: middle;\n",
       "    }\n",
       "\n",
       "    .dataframe tbody tr th {\n",
       "        vertical-align: top;\n",
       "    }\n",
       "\n",
       "    .dataframe thead th {\n",
       "        text-align: right;\n",
       "    }\n",
       "</style>\n",
       "<table border=\"1\" class=\"dataframe\">\n",
       "  <thead>\n",
       "    <tr style=\"text-align: right;\">\n",
       "      <th></th>\n",
       "      <th>d_pix</th>\n",
       "      <th>x_pix</th>\n",
       "      <th>x_mm</th>\n",
       "    </tr>\n",
       "  </thead>\n",
       "  <tbody>\n",
       "    <tr>\n",
       "      <th>240</th>\n",
       "      <td>132</td>\n",
       "      <td>70</td>\n",
       "      <td>2.692308</td>\n",
       "    </tr>\n",
       "    <tr>\n",
       "      <th>241</th>\n",
       "      <td>129</td>\n",
       "      <td>71</td>\n",
       "      <td>2.730769</td>\n",
       "    </tr>\n",
       "    <tr>\n",
       "      <th>242</th>\n",
       "      <td>127</td>\n",
       "      <td>72</td>\n",
       "      <td>2.769231</td>\n",
       "    </tr>\n",
       "    <tr>\n",
       "      <th>243</th>\n",
       "      <td>126</td>\n",
       "      <td>73</td>\n",
       "      <td>2.807692</td>\n",
       "    </tr>\n",
       "    <tr>\n",
       "      <th>244</th>\n",
       "      <td>125</td>\n",
       "      <td>74</td>\n",
       "      <td>2.846154</td>\n",
       "    </tr>\n",
       "    <tr>\n",
       "      <th>245</th>\n",
       "      <td>122</td>\n",
       "      <td>75</td>\n",
       "      <td>2.884615</td>\n",
       "    </tr>\n",
       "    <tr>\n",
       "      <th>246</th>\n",
       "      <td>116</td>\n",
       "      <td>76</td>\n",
       "      <td>2.923077</td>\n",
       "    </tr>\n",
       "    <tr>\n",
       "      <th>247</th>\n",
       "      <td>115</td>\n",
       "      <td>77</td>\n",
       "      <td>2.961538</td>\n",
       "    </tr>\n",
       "    <tr>\n",
       "      <th>248</th>\n",
       "      <td>118</td>\n",
       "      <td>78</td>\n",
       "      <td>3.000000</td>\n",
       "    </tr>\n",
       "    <tr>\n",
       "      <th>249</th>\n",
       "      <td>119</td>\n",
       "      <td>79</td>\n",
       "      <td>3.038462</td>\n",
       "    </tr>\n",
       "    <tr>\n",
       "      <th>250</th>\n",
       "      <td>116</td>\n",
       "      <td>80</td>\n",
       "      <td>3.076923</td>\n",
       "    </tr>\n",
       "    <tr>\n",
       "      <th>251</th>\n",
       "      <td>112</td>\n",
       "      <td>81</td>\n",
       "      <td>3.115385</td>\n",
       "    </tr>\n",
       "    <tr>\n",
       "      <th>252</th>\n",
       "      <td>109</td>\n",
       "      <td>82</td>\n",
       "      <td>3.153846</td>\n",
       "    </tr>\n",
       "    <tr>\n",
       "      <th>253</th>\n",
       "      <td>108</td>\n",
       "      <td>83</td>\n",
       "      <td>3.192308</td>\n",
       "    </tr>\n",
       "    <tr>\n",
       "      <th>254</th>\n",
       "      <td>104</td>\n",
       "      <td>84</td>\n",
       "      <td>3.230769</td>\n",
       "    </tr>\n",
       "    <tr>\n",
       "      <th>255</th>\n",
       "      <td>104</td>\n",
       "      <td>85</td>\n",
       "      <td>3.269231</td>\n",
       "    </tr>\n",
       "    <tr>\n",
       "      <th>256</th>\n",
       "      <td>103</td>\n",
       "      <td>86</td>\n",
       "      <td>3.307692</td>\n",
       "    </tr>\n",
       "    <tr>\n",
       "      <th>257</th>\n",
       "      <td>101</td>\n",
       "      <td>87</td>\n",
       "      <td>3.346154</td>\n",
       "    </tr>\n",
       "    <tr>\n",
       "      <th>258</th>\n",
       "      <td>98</td>\n",
       "      <td>88</td>\n",
       "      <td>3.384615</td>\n",
       "    </tr>\n",
       "    <tr>\n",
       "      <th>259</th>\n",
       "      <td>95</td>\n",
       "      <td>89</td>\n",
       "      <td>3.423077</td>\n",
       "    </tr>\n",
       "    <tr>\n",
       "      <th>260</th>\n",
       "      <td>93</td>\n",
       "      <td>90</td>\n",
       "      <td>3.461538</td>\n",
       "    </tr>\n",
       "    <tr>\n",
       "      <th>261</th>\n",
       "      <td>96</td>\n",
       "      <td>91</td>\n",
       "      <td>3.500000</td>\n",
       "    </tr>\n",
       "    <tr>\n",
       "      <th>262</th>\n",
       "      <td>92</td>\n",
       "      <td>92</td>\n",
       "      <td>3.538462</td>\n",
       "    </tr>\n",
       "    <tr>\n",
       "      <th>263</th>\n",
       "      <td>92</td>\n",
       "      <td>93</td>\n",
       "      <td>3.576923</td>\n",
       "    </tr>\n",
       "    <tr>\n",
       "      <th>264</th>\n",
       "      <td>88</td>\n",
       "      <td>94</td>\n",
       "      <td>3.615385</td>\n",
       "    </tr>\n",
       "    <tr>\n",
       "      <th>265</th>\n",
       "      <td>85</td>\n",
       "      <td>95</td>\n",
       "      <td>3.653846</td>\n",
       "    </tr>\n",
       "    <tr>\n",
       "      <th>266</th>\n",
       "      <td>85</td>\n",
       "      <td>96</td>\n",
       "      <td>3.692308</td>\n",
       "    </tr>\n",
       "    <tr>\n",
       "      <th>267</th>\n",
       "      <td>82</td>\n",
       "      <td>97</td>\n",
       "      <td>3.730769</td>\n",
       "    </tr>\n",
       "    <tr>\n",
       "      <th>268</th>\n",
       "      <td>78</td>\n",
       "      <td>98</td>\n",
       "      <td>3.769231</td>\n",
       "    </tr>\n",
       "    <tr>\n",
       "      <th>269</th>\n",
       "      <td>79</td>\n",
       "      <td>99</td>\n",
       "      <td>3.807692</td>\n",
       "    </tr>\n",
       "    <tr>\n",
       "      <th>270</th>\n",
       "      <td>78</td>\n",
       "      <td>100</td>\n",
       "      <td>3.846154</td>\n",
       "    </tr>\n",
       "    <tr>\n",
       "      <th>271</th>\n",
       "      <td>76</td>\n",
       "      <td>101</td>\n",
       "      <td>3.884615</td>\n",
       "    </tr>\n",
       "    <tr>\n",
       "      <th>272</th>\n",
       "      <td>76</td>\n",
       "      <td>102</td>\n",
       "      <td>3.923077</td>\n",
       "    </tr>\n",
       "    <tr>\n",
       "      <th>273</th>\n",
       "      <td>73</td>\n",
       "      <td>103</td>\n",
       "      <td>3.961538</td>\n",
       "    </tr>\n",
       "    <tr>\n",
       "      <th>274</th>\n",
       "      <td>70</td>\n",
       "      <td>104</td>\n",
       "      <td>4.000000</td>\n",
       "    </tr>\n",
       "    <tr>\n",
       "      <th>275</th>\n",
       "      <td>68</td>\n",
       "      <td>105</td>\n",
       "      <td>4.038462</td>\n",
       "    </tr>\n",
       "    <tr>\n",
       "      <th>276</th>\n",
       "      <td>65</td>\n",
       "      <td>106</td>\n",
       "      <td>4.076923</td>\n",
       "    </tr>\n",
       "    <tr>\n",
       "      <th>277</th>\n",
       "      <td>67</td>\n",
       "      <td>107</td>\n",
       "      <td>4.115385</td>\n",
       "    </tr>\n",
       "    <tr>\n",
       "      <th>278</th>\n",
       "      <td>62</td>\n",
       "      <td>108</td>\n",
       "      <td>4.153846</td>\n",
       "    </tr>\n",
       "    <tr>\n",
       "      <th>279</th>\n",
       "      <td>63</td>\n",
       "      <td>109</td>\n",
       "      <td>4.192308</td>\n",
       "    </tr>\n",
       "  </tbody>\n",
       "</table>\n",
       "</div>"
      ],
      "text/plain": [
       "     d_pix  x_pix      x_mm\n",
       "240    132     70  2.692308\n",
       "241    129     71  2.730769\n",
       "242    127     72  2.769231\n",
       "243    126     73  2.807692\n",
       "244    125     74  2.846154\n",
       "245    122     75  2.884615\n",
       "246    116     76  2.923077\n",
       "247    115     77  2.961538\n",
       "248    118     78  3.000000\n",
       "249    119     79  3.038462\n",
       "250    116     80  3.076923\n",
       "251    112     81  3.115385\n",
       "252    109     82  3.153846\n",
       "253    108     83  3.192308\n",
       "254    104     84  3.230769\n",
       "255    104     85  3.269231\n",
       "256    103     86  3.307692\n",
       "257    101     87  3.346154\n",
       "258     98     88  3.384615\n",
       "259     95     89  3.423077\n",
       "260     93     90  3.461538\n",
       "261     96     91  3.500000\n",
       "262     92     92  3.538462\n",
       "263     92     93  3.576923\n",
       "264     88     94  3.615385\n",
       "265     85     95  3.653846\n",
       "266     85     96  3.692308\n",
       "267     82     97  3.730769\n",
       "268     78     98  3.769231\n",
       "269     79     99  3.807692\n",
       "270     78    100  3.846154\n",
       "271     76    101  3.884615\n",
       "272     76    102  3.923077\n",
       "273     73    103  3.961538\n",
       "274     70    104  4.000000\n",
       "275     68    105  4.038462\n",
       "276     65    106  4.076923\n",
       "277     67    107  4.115385\n",
       "278     62    108  4.153846\n",
       "279     63    109  4.192308"
      ]
     },
     "execution_count": 16,
     "metadata": {},
     "output_type": "execute_result"
    },
    {
     "data": {
      "image/png": "[encoded data removed]",
      "text/plain": [
       "<Figure size 432x288 with 1 Axes>"
      ]
     },
     "metadata": {
      "needs_background": "light"
     },
     "output_type": "display_data"
    }
   ],
   "source": [
    "dist = []\n",
    "prof = []\n",
    "dist_p = []\n",
    "for i in range(wedge.shape[1]):\n",
    "        dist.append(np.abs(i - pix_med_x)/mm)\n",
    "        dist_p.append(np.abs(i - pix_med_x))\n",
    "        prof.append(wedge[pix_med_x][i])\n",
    "\n",
    "plt.plot(dist_p, prof)\n",
    "data_wedge_dist = pd.DataFrame({\"d_pix\":prof, \"x_pix\":dist_p, \"x_mm\":dist})\n",
    "data_wedge_dist[240:280]"
   ]
  },
  {
   "cell_type": "code",
   "execution_count": 17,
   "metadata": {},
   "outputs": [
    {
     "data": {
      "text/plain": [
       "[<matplotlib.lines.Line2D at 0x2892c2fcbe0>]"
      ]
     },
     "execution_count": 17,
     "metadata": {},
     "output_type": "execute_result"
    },
    {
     "data": {
      "image/png": "[encoded data removed]",
      "text/plain": [
       "<Figure size 432x288 with 1 Axes>"
      ]
     },
     "metadata": {
      "needs_background": "light"
     },
     "output_type": "display_data"
    }
   ],
   "source": [
    "import pandas as pd\n",
    "x = np.arange(-19, 19, 0.01)\n",
    "\n",
    "def tomm(w):\n",
    "    return -np.sqrt(361-w*w) + 19\n",
    "#     return -1/2*np.sqrt(22201-4*w*w)\n",
    "\n",
    "y = list(map(tomm, x))\n",
    "y_pix = list(map(lambda w: round(w*mm), y))\n",
    "x_pix = list(map(lambda w: round(w*mm), x))\n",
    "\n",
    "data_wedge_depth = pd.DataFrame({\"x_mill\":x, \"y_mill\":y, \"y_pix\":y_pix, \"x_pix\":x_pix})\n",
    "plt.plot(data_wedge_depth[\"x_mill\"], data_wedge_depth[\"y_mill\"])\n",
    "# data_wedge_depth"
   ]
  },
  {
   "cell_type": "code",
   "execution_count": 18,
   "metadata": {
    "scrolled": false
   },
   "outputs": [],
   "source": [
    "wedge_dd = data_wedge_depth.merge(data_wedge_dist)\n",
    "wedge_xd = wedge_dd.groupby(\"x_pix\").median().reset_index()\n",
    "wedge_dd = wedge_dd.groupby(\"d_pix\").median().reset_index()"
   ]
  },
  {
   "cell_type": "code",
   "execution_count": 19,
   "metadata": {
    "scrolled": true
   },
   "outputs": [
    {
     "name": "stdout",
     "output_type": "stream",
     "text": [
      "187\n",
      "87\n"
     ]
    }
   ],
   "source": [
    "k_pix = min(np.array(wedge_dd[wedge_dd.y_mill <= 0.05][\"d_pix\"]))\n",
    "w_pix = min(np.array(wedge_dd[wedge_dd.y_mill <= 0.35][\"d_pix\"]))\n",
    "print(k_pix)\n",
    "print(w_pix)"
   ]
  },
  {
   "cell_type": "code",
   "execution_count": 20,
   "metadata": {},
   "outputs": [
    {
     "data": {
      "text/plain": [
       "[<matplotlib.lines.Line2D at 0x2892c38eba8>]"
      ]
     },
     "execution_count": 20,
     "metadata": {},
     "output_type": "execute_result"
    },
    {
     "data": {
      "image/png": "[encoded data removed]",
      "text/plain": [
       "<Figure size 432x288 with 1 Axes>"
      ]
     },
     "metadata": {
      "needs_background": "light"
     },
     "output_type": "display_data"
    }
   ],
   "source": [
    "def depth_found(dist, a):\n",
    "    y =  [i for i, e in enumerate(prof) if e == a]\n",
    "    if(len(y)== 0):\n",
    "        return \"not found\"\n",
    "    else:\n",
    "        return np.median([dist[i] for i in y])\n",
    "\n",
    "distances = []\n",
    "depths = []\n",
    "\n",
    "for i in range(255):\n",
    "    distances.append(depth_found(dist, i))\n",
    "    depths.append(i)\n",
    "    \n",
    "for i in range(len(distances)):\n",
    "    if(i == 0 and distances[i]==\"not found\"):\n",
    "        aux = [x for x in distances if x!= \"not found\"]\n",
    "        distances[i] = max(aux)\n",
    "    if(distances[i] == \"not found\"):\n",
    "        distances[i] = distances[i - 1]\n",
    "\n",
    "# To get every depths, put it in the index of \"distances\"\n",
    "plt.plot(distances,depths)"
   ]
  },
  {
   "cell_type": "markdown",
   "metadata": {},
   "source": [
    "### Step 5: calculate the maximun depth\n",
    "In this step, the maximun depth for the contacts is calculated"
   ]
  },
  {
   "cell_type": "code",
   "execution_count": null,
   "metadata": {},
   "outputs": [],
   "source": [
    "# print(max([x for x in distances if x <= 0.05]))\n",
    "# k = min([i for i, e in enumerate(distances) if e <= 0.05])\n",
    "# w = min([i for i, e in enumerate(distances) if e <= 0.35])\n",
    "# k"
   ]
  },
  {
   "cell_type": "markdown",
   "metadata": {},
   "source": [
    "### Step 4: Transform each pixel distance\n",
    "Here, each depth pixel on the bite is transform to its equivalent millimeters distance to the center of the wedge."
   ]
  },
  {
   "cell_type": "code",
   "execution_count": 21,
   "metadata": {},
   "outputs": [],
   "source": [
    "@vectorize([int64(float64)])\n",
    "def redondear(x):\n",
    "    return x"
   ]
  },
  {
   "cell_type": "code",
   "execution_count": 22,
   "metadata": {},
   "outputs": [
    {
     "data": {
      "text/plain": [
       "<matplotlib.image.AxesImage at 0x2892e1afb00>"
      ]
     },
     "execution_count": 22,
     "metadata": {},
     "output_type": "execute_result"
    },
    {
     "data": {
      "image/png": "[encoded data removed]",
      "text/plain": [
       "<Figure size 432x288 with 1 Axes>"
      ]
     },
     "metadata": {
      "needs_background": "light"
     },
     "output_type": "display_data"
    }
   ],
   "source": [
    "# bite = np.array(image.crop(bite_params))\n",
    "cut_params = [(150,1100),(220,820),(450.40,800),(400,1200.18)]\n",
    "cut_params = redondear(cut_params)\n",
    "pts = np.array(cut_params)\n",
    "## (1) Crop the bounding rect\n",
    "rect = cv2.boundingRect(pts)\n",
    "x,y,w,h = rect\n",
    "croped = bite[y:y+h, x:x+w].copy()\n",
    "\n",
    "## (2) make mask\n",
    "pts = pts - pts.min(axis=0)\n",
    "\n",
    "mask = np.zeros(croped.shape[:2], np.uint8)\n",
    "cv2.drawContours(mask, [pts], -1, (255, 255, 255), -1, cv2.LINE_AA)\n",
    "\n",
    "## (3) do bit-op\n",
    "dst = cv2.bitwise_and(croped, croped, mask=mask)\n",
    "\n",
    "## (4) add the white background\n",
    "bg = np.ones_like(croped, np.uint8)*255\n",
    "# cv2.bitwise_not(bg,bg, mask=mask)\n",
    "plt.imshow(dst)\n",
    "# max(dst[250])\n",
    "# plt.imshow(255-dst)"
   ]
  },
  {
   "cell_type": "code",
   "execution_count": 23,
   "metadata": {},
   "outputs": [
    {
     "data": {
      "text/plain": [
       "array([[213, 214, 212, ...,  17,  17,  16],\n",
       "       [212, 211, 211, ...,  15,  14,  15],\n",
       "       [214, 212, 213, ...,  16,  15,  15],\n",
       "       ...,\n",
       "       [ 16,  14,  13, ..., 219, 220, 220],\n",
       "       [ 15,  13,  13, ..., 219, 220, 219],\n",
       "       [ 14,  15,  14, ..., 219, 218, 220]], dtype=uint8)"
      ]
     },
     "execution_count": 23,
     "metadata": {},
     "output_type": "execute_result"
    }
   ],
   "source": [
    "croped"
   ]
  },
  {
   "cell_type": "code",
   "execution_count": 24,
   "metadata": {
    "scrolled": true
   },
   "outputs": [
    {
     "data": {
      "text/plain": [
       "array([[ 0,  0,  0, ...,  0,  0, 16],\n",
       "       [ 0,  0,  0, ..., 15, 14,  0],\n",
       "       [ 0,  0,  0, ..., 16, 15,  0],\n",
       "       ...,\n",
       "       [ 0,  0,  0, ...,  0,  0,  0],\n",
       "       [ 0,  0,  0, ...,  0,  0,  0],\n",
       "       [ 0,  0,  0, ...,  0,  0,  0]], dtype=uint8)"
      ]
     },
     "execution_count": 24,
     "metadata": {},
     "output_type": "execute_result"
    }
   ],
   "source": [
    "dst"
   ]
  },
  {
   "cell_type": "code",
   "execution_count": 25,
   "metadata": {},
   "outputs": [
    {
     "name": "stdout",
     "output_type": "stream",
     "text": [
      "187\n",
      "87\n"
     ]
    }
   ],
   "source": [
    "class Switch(dict):\n",
    "    def __getitem__(self, item):\n",
    "        for key in self.keys():                   # iterate over the intervals\n",
    "            if item in key:                       # if the argument is part of that interval\n",
    "                return super().__getitem__(key)   # return its associated value\n",
    "        raise KeyError(item)                      # if not in any interval, raise KeyError\n",
    "\n",
    "switch = Switch({\n",
    "    range(k_pix, 255): 2,\n",
    "    range(w_pix, k_pix): 1,\n",
    "    range(0, w_pix): 0\n",
    "})\n",
    "print(k_pix)\n",
    "print(w_pix)"
   ]
  },
  {
   "cell_type": "code",
   "execution_count": null,
   "metadata": {},
   "outputs": [],
   "source": [
    "# classification = dst.copy()\n",
    "# for i in range(dst.shape[0]):\n",
    "#     classification[i] = [switch[x] for x in dst[i]]"
   ]
  },
  {
   "cell_type": "code",
   "execution_count": 26,
   "metadata": {},
   "outputs": [],
   "source": [
    "@vectorize([float64(float64)])\n",
    "def f(x):\n",
    "    return switch[x]"
   ]
  },
  {
   "cell_type": "code",
   "execution_count": 27,
   "metadata": {},
   "outputs": [],
   "source": [
    "classification = f(dst)"
   ]
  },
  {
   "cell_type": "code",
   "execution_count": null,
   "metadata": {},
   "outputs": [],
   "source": [
    "# (clasification1 == clasification).all()"
   ]
  },
  {
   "cell_type": "code",
   "execution_count": 28,
   "metadata": {},
   "outputs": [
    {
     "data": {
      "text/plain": [
       "<matplotlib.image.AxesImage at 0x2892e277320>"
      ]
     },
     "execution_count": 28,
     "metadata": {},
     "output_type": "execute_result"
    },
    {
     "data": {
      "image/png": "[encoded data removed]",
      "text/plain": [
       "<Figure size 432x288 with 1 Axes>"
      ]
     },
     "metadata": {
      "needs_background": "light"
     },
     "output_type": "display_data"
    }
   ],
   "source": [
    "plt.imshow(classification)"
   ]
  },
  {
   "cell_type": "code",
   "execution_count": 29,
   "metadata": {},
   "outputs": [],
   "source": [
    "low = 0\n",
    "contact = 0\n",
    "close = 0\n",
    "for i in range(classification.shape[0]):\n",
    "    for j in range(classification.shape[1]):\n",
    "            if(classification[i][j] == 0):\n",
    "                low = low + 1\n",
    "            if(classification[i][j] == 1):\n",
    "                close = close +1\n",
    "            if(classification[i][j] == 2):\n",
    "                contact = contact +1"
   ]
  },
  {
   "cell_type": "markdown",
   "metadata": {},
   "source": [
    "### Calculate the area and number of contacts and close areas"
   ]
  },
  {
   "cell_type": "code",
   "execution_count": 30,
   "metadata": {},
   "outputs": [
    {
     "name": "stdout",
     "output_type": "stream",
     "text": [
      "0.6789940828402367\n",
      "2.75\n"
     ]
    }
   ],
   "source": [
    "area_contact = (1/mm**2)*contact\n",
    "area_close = (1/mm**2)*close\n",
    "print(area_contact)\n",
    "print(area_close)"
   ]
  },
  {
   "cell_type": "code",
   "execution_count": null,
   "metadata": {},
   "outputs": [],
   "source": [
    "classification.shape[0]"
   ]
  },
  {
   "cell_type": "code",
   "execution_count": null,
   "metadata": {},
   "outputs": [],
   "source": [
    "contactos = []\n",
    "for k in range(classification.shape[0]-1):\n",
    "    zeros = [i for i, e in enumerate(classification[k]) if e == 2]\n",
    "    if len(zeros) == 0:\n",
    "        \"Sin contactos\"\n",
    "    else:\n",
    "        contactos.append(k)"
   ]
  },
  {
   "cell_type": "code",
   "execution_count": null,
   "metadata": {
    "scrolled": false
   },
   "outputs": [],
   "source": [
    "if len([i for i, e in enumerate(np.diff(contactos)) if e != 1]) == 0:\n",
    "    count_contact = 1\n",
    "else:\n",
    "    count_contact = len([i for i, e in enumerate(np.diff(contactos)) if e != 1])\n",
    "count_contact"
   ]
  },
  {
   "cell_type": "code",
   "execution_count": null,
   "metadata": {},
   "outputs": [],
   "source": [
    "contactos = []\n",
    "for k in range(classification.shape[0]-1):\n",
    "    zeros = [i for i, e in enumerate(classification[k]) if e == 1]\n",
    "    if len(zeros) == 0:\n",
    "        \"Sin contactos\"\n",
    "    else:\n",
    "        contactos.append(k)"
   ]
  },
  {
   "cell_type": "code",
   "execution_count": null,
   "metadata": {},
   "outputs": [],
   "source": [
    "import numpy as np\n",
    "import plotly.graph_objs as go\n",
    "import ipywidgets as widgets\n",
    "from plotly.colors import DEFAULT_PLOTLY_COLORS\n",
    "\n",
    "x = np.linspace(0,6,100)\n",
    "y = np.sin(x)\n",
    "\n",
    "data = [go.Scattergl(x=x, y=y, mode='markers', name = 'All nodes',\n",
    "                     selected=dict(marker=dict(color=DEFAULT_PLOTLY_COLORS[1])))]\n",
    "\n",
    "layout = dict(title=dict(text = 'asagsggsa'), dragmode='lasso')\n",
    "fig = go.FigureWidget(data=data, layout= layout)\n",
    "\n",
    "# seleccion = []\n",
    "\n",
    "def otra(trace, points, selector):\n",
    "    seleccion=selector\n",
    "    print(selector)\n",
    "\n",
    "fig.data[0].on_selection(otra)\n",
    "# print(salida)\n",
    "# fig2.data[0].on_selection(selection_fn2)\n",
    "display(widgets.HBox([fig,fig]))"
   ]
  },
  {
   "cell_type": "code",
   "execution_count": null,
   "metadata": {},
   "outputs": [],
   "source": [
    "imagen = Image.open('bite.jpg')\n",
    "im_w, im_h = imagen.size\n",
    "plt.imshow(imagen)\n",
    "# plt.imshow(bite)\n",
    "im_h"
   ]
  },
  {
   "cell_type": "code",
   "execution_count": null,
   "metadata": {},
   "outputs": [],
   "source": [
    "import plotly.graph_objs as go\n",
    "# Create figure\n",
    "fig = go.Figure()\n",
    "\n",
    "# Constants\n",
    "img_width = im_w\n",
    "img_height = im_h\n",
    "scale_factor = 0.5\n",
    "\n",
    "# Add invisible scatter trace.\n",
    "# This trace is added to help the autoresize logic work.\n",
    "fig.add_trace(\n",
    "    go.Scatter(\n",
    "        x=[0, img_width * scale_factor],\n",
    "        y=[0, img_height * scale_factor],\n",
    "        mode=\"markers\",\n",
    "        marker_opacity=0\n",
    "    )\n",
    ")\n",
    "\n",
    "# Configure axes\n",
    "fig.update_xaxes(\n",
    "    visible=False,\n",
    "    range=[0, img_width * scale_factor]\n",
    ")\n",
    "\n",
    "fig.update_yaxes(\n",
    "    visible=False,\n",
    "    range=[0, img_height * scale_factor],\n",
    "    # the scaleanchor attribute ensures that the aspect ratio stays constant\n",
    "    scaleanchor=\"x\"\n",
    ")\n",
    "\n",
    "# Add image\n",
    "fig.add_layout_image(\n",
    "    go.layout.Image(\n",
    "        x=0,\n",
    "        sizex=img_width * scale_factor,\n",
    "        y=img_height * scale_factor,\n",
    "        sizey=img_height * scale_factor,\n",
    "        xref=\"x\",\n",
    "        yref=\"y\",\n",
    "        opacity=1.0,\n",
    "        layer=\"below\",\n",
    "        sizing=\"stretch\",\n",
    "        source=\"bite.jpg\")\n",
    ")\n",
    "\n",
    "# Configure other layout\n",
    "fig.update_layout(\n",
    "    width=img_width * scale_factor,\n",
    "    height=img_height * scale_factor,\n",
    "    margin={\"l\": 0, \"r\": 0, \"t\": 0, \"b\": 0},\n",
    ")\n",
    "\n",
    "layout = dict(title=dict(text = 'asagsggsa'), dragmode='lasso')\n",
    "fig2 = go.FigureWidget(data=fig, layout= layout)\n",
    "\n",
    "\n",
    "def otra(trace, points, selector):\n",
    "    global seleccion\n",
    "    seleccion = selector\n",
    "\n",
    "fig2.data[0].on_selection(otra)\n",
    "\n",
    "display(widgets.HBox([fig2]))\n",
    "# Disable the autosize on double click because it adds unwanted margins around the image\n",
    "# More detail: https://plot.ly/python/configuration-options/\n",
    "# fig.show(config={'doubleClick': 'reset'})"
   ]
  },
  {
   "cell_type": "code",
   "execution_count": null,
   "metadata": {},
   "outputs": [],
   "source": [
    "print(seleccion)"
   ]
  },
  {
   "cell_type": "code",
   "execution_count": null,
   "metadata": {},
   "outputs": [],
   "source": [
    "x = list(map(lambda x: round(x*2), seleccion.xs))\n",
    "y = list(map(lambda x: round(img_height - x*2), seleccion.ys))\n",
    "coordenadas_nuevas = list(zip(x, y))\n",
    "coordenadas_nuevas"
   ]
  },
  {
   "cell_type": "code",
   "execution_count": null,
   "metadata": {},
   "outputs": [],
   "source": [
    "# bite = np.array(image.crop(bite_params))\n",
    "cut_params = coordenadas_nuevas# [(150,1100),(220,820),(450.40,800),(400,1200.18)]\n",
    "cut_params = redondear(cut_params)\n",
    "pts = np.array(cut_params)\n",
    "## (1) Crop the bounding rect\n",
    "rect = cv2.boundingRect(pts)\n",
    "x,y,w,h = rect\n",
    "croped = bite[y:y+h, x:x+w].copy()\n",
    "\n",
    "## (2) make mask\n",
    "pts = pts - pts.min(axis=0)\n",
    "\n",
    "mask = np.zeros(croped.shape[:2], np.uint8)\n",
    "cv2.drawContours(mask, [pts], -1, (255, 255, 255), -1, cv2.LINE_AA)\n",
    "\n",
    "## (3) do bit-op\n",
    "dst = cv2.bitwise_and(croped, croped, mask=mask)\n",
    "\n",
    "## (4) add the white background\n",
    "bg = np.ones_like(croped, np.uint8)*255\n",
    "# cv2.bitwise_not(bg,bg, mask=mask)\n",
    "plt.imshow(dst)\n",
    "# max(dst[250])\n",
    "# plt.imshow(255-dst)"
   ]
  },
  {
   "cell_type": "code",
   "execution_count": null,
   "metadata": {},
   "outputs": [],
   "source": [
    "class Switch(dict):\n",
    "    def __getitem__(self, item):\n",
    "        for key in self.keys():                   # iterate over the intervals\n",
    "            if item in key:                       # if the argument is part of that interval\n",
    "                return super().__getitem__(key)   # return its associated value\n",
    "        raise KeyError(item)                      # if not in any interval, raise KeyError\n",
    "\n",
    "switch = Switch({\n",
    "    range(k_pix, 255): 2,\n",
    "    range(w_pix, k_pix): 1,\n",
    "    range(0, w_pix): 0\n",
    "})\n",
    "print(k_pix)\n",
    "print(w_pix)"
   ]
  },
  {
   "cell_type": "code",
   "execution_count": null,
   "metadata": {},
   "outputs": [],
   "source": [
    "# import plotly as pt\n",
    "# pt.__version__"
   ]
  },
  {
   "cell_type": "code",
   "execution_count": null,
   "metadata": {},
   "outputs": [],
   "source": [
    "# import plotly.express as px\n",
    "# from skimage import io\n",
    "# img = io.imread('https://upload.wikimedia.org/wikipedia/commons/thumb/0/00/Crab_Nebula.jpg/240px-Crab_Nebula.jpg')\n",
    "# fig = px.imshow(img)\n",
    "# fig.show()"
   ]
  },
  {
   "cell_type": "code",
   "execution_count": null,
   "metadata": {},
   "outputs": [],
   "source": [
    "@vectorize([float64(float64)])\n",
    "def f(x):\n",
    "    return switch[x]"
   ]
  },
  {
   "cell_type": "code",
   "execution_count": null,
   "metadata": {},
   "outputs": [],
   "source": [
    "classification = f(dst)"
   ]
  },
  {
   "cell_type": "code",
   "execution_count": null,
   "metadata": {},
   "outputs": [],
   "source": [
    "plt.imshow(classification)"
   ]
  },
  {
   "cell_type": "code",
   "execution_count": null,
   "metadata": {},
   "outputs": [],
   "source": [
    "import plotly.graph_objs as go\n",
    "# Create figure\n",
    "fig = go.Figure()\n",
    "\n",
    "# Constants\n",
    "img_width = im_w\n",
    "img_height = im_h\n",
    "scale_factor = 0.5\n",
    "\n",
    "# Add invisible scatter trace.\n",
    "# This trace is added to help the autoresize logic work.\n",
    "fig.add_trace(\n",
    "    go.Scatter(\n",
    "        x=[0, img_width * scale_factor],\n",
    "        y=[0, img_height * scale_factor],\n",
    "        mode=\"markers\",\n",
    "        marker_opacity=0\n",
    "    )\n",
    ")\n",
    "\n",
    "# Configure axes\n",
    "fig.update_xaxes(\n",
    "    visible=False,\n",
    "    range=[0, img_width * scale_factor]\n",
    ")\n",
    "\n",
    "fig.update_yaxes(\n",
    "    visible=False,\n",
    "    range=[0, img_height * scale_factor],\n",
    "    # the scaleanchor attribute ensures that the aspect ratio stays constant\n",
    "    scaleanchor=\"x\"\n",
    ")\n",
    "\n",
    "# Add image\n",
    "fig.add_layout_image(\n",
    "    go.layout.Image(\n",
    "        x=0,\n",
    "        sizex=img_width * scale_factor,\n",
    "        y=img_height * scale_factor,\n",
    "        sizey=img_height * scale_factor,\n",
    "        xref=\"x\",\n",
    "        yref=\"y\",\n",
    "        opacity=1.0,\n",
    "        layer=\"below\",\n",
    "        sizing=\"stretch\",\n",
    "        source=\"bite.jpg\")\n",
    ")\n",
    "\n",
    "# Configure other layout\n",
    "fig.update_layout(\n",
    "    width=img_width * scale_factor,\n",
    "    height=img_height * scale_factor,\n",
    "    margin={\"l\": 0, \"r\": 0, \"t\": 0, \"b\": 0},\n",
    ")\n",
    "\n",
    "layout = dict(title=dict(text = 'asagsggsa'), dragmode='lasso')\n",
    "fig2 = go.FigureWidget(data=fig, layout= layout)\n",
    "\n",
    "\n",
    "def otra(trace, points, selector):\n",
    "    global seleccion\n",
    "    seleccion = selector\n",
    "\n",
    "fig2.data[0].on_selection(otra)\n",
    "\n",
    "display(widgets.HBox([fig2]))\n",
    "# Disable the autosize on double click because it adds unwanted margins around the image\n",
    "# More detail: https://plot.ly/python/configuration-options/\n",
    "# fig.show(config={'doubleClick': 'reset'})"
   ]
  },
  {
   "cell_type": "code",
   "execution_count": 35,
   "metadata": {},
   "outputs": [
    {
     "ename": "AttributeError",
     "evalue": "'dict' object has no attribute 'hola'",
     "output_type": "error",
     "traceback": [
      "\u001b[1;31m---------------------------------------------------------------------------\u001b[0m",
      "\u001b[1;31mAttributeError\u001b[0m                            Traceback (most recent call last)",
      "\u001b[1;32m<ipython-input-35-67c0e2d5c4eb>\u001b[0m in \u001b[0;36m<module>\u001b[1;34m\u001b[0m\n\u001b[0;32m      1\u001b[0m \u001b[0mx\u001b[0m \u001b[1;33m=\u001b[0m \u001b[1;33m{\u001b[0m\u001b[1;34m\"hola\"\u001b[0m\u001b[1;33m:\u001b[0m \u001b[1;36m12\u001b[0m\u001b[1;33m,\u001b[0m \u001b[1;34m\"que\"\u001b[0m\u001b[1;33m:\u001b[0m \u001b[1;34m\"hola\"\u001b[0m\u001b[1;33m}\u001b[0m\u001b[1;33m\u001b[0m\u001b[1;33m\u001b[0m\u001b[0m\n\u001b[1;32m----> 2\u001b[1;33m \u001b[0mx\u001b[0m\u001b[1;33m.\u001b[0m\u001b[0mhola\u001b[0m\u001b[1;33m\u001b[0m\u001b[1;33m\u001b[0m\u001b[0m\n\u001b[0m",
      "\u001b[1;31mAttributeError\u001b[0m: 'dict' object has no attribute 'hola'"
     ]
    }
   ],
   "source": [
    "x = {\"hola\": 12, \"que\": \"hola\"}\n",
    "x"
   ]
  },
  {
   "cell_type": "code",
   "execution_count": 40,
   "metadata": {},
   "outputs": [],
   "source": [
    "lisita1 = [234,234]\n",
    "lisita2 = [5234,5234]"
   ]
  },
  {
   "cell_type": "code",
   "execution_count": 42,
   "metadata": {},
   "outputs": [],
   "source": [
    "lisita1.extend(lisita2)"
   ]
  },
  {
   "cell_type": "code",
   "execution_count": 44,
   "metadata": {},
   "outputs": [
    {
     "name": "stdout",
     "output_type": "stream",
     "text": [
      "(234, 234, 5234, 5234)\n"
     ]
    }
   ],
   "source": [
    "print(tuple(lisita1))"
   ]
  },
  {
   "cell_type": "code",
   "execution_count": null,
   "metadata": {},
   "outputs": [],
   "source": []
  }
 ],
 "metadata": {
  "kernelspec": {
   "display_name": "Python 3",
   "language": "python",
   "name": "python3"
  },
  "language_info": {
   "codemirror_mode": {
    "name": "ipython",
    "version": 3
   },
   "file_extension": ".py",
   "mimetype": "text/x-python",
   "name": "python",
   "nbconvert_exporter": "python",
   "pygments_lexer": "ipython3",
   "version": "3.7.3"
  }
 },
 "nbformat": 4,
 "nbformat_minor": 2
}
